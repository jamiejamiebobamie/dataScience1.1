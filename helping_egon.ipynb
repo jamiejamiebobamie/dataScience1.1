{
 "cells": [
  {
   "cell_type": "code",
   "execution_count": 1,
   "metadata": {},
   "outputs": [
    {
     "ename": "SyntaxError",
     "evalue": "invalid character in identifier (<ipython-input-1-81658965eede>, line 1)",
     "output_type": "error",
     "traceback": [
      "\u001b[0;36m  File \u001b[0;32m\"<ipython-input-1-81658965eede>\"\u001b[0;36m, line \u001b[0;32m1\u001b[0m\n\u001b[0;31m    def groupedbarplot(x_data, y_data_list, colors, y_data_names=“”, x_label=“”, y_label=“”, title=“”):\u001b[0m\n\u001b[0m                                                                  ^\u001b[0m\n\u001b[0;31mSyntaxError\u001b[0m\u001b[0;31m:\u001b[0m invalid character in identifier\n"
     ]
    }
   ],
   "source": [
    "def groupedbarplot(x_data, y_data_list, colors, y_data_names=None, x_label=None, y_label=None, title=None):\n",
    "   _, ax = plt.subplots()\n",
    "   # Total width for all bars at one x location\n",
    "   total_width = 0.8\n",
    "   # Width of each individual bar\n",
    "   ind_width = total_width / len(y_data_list)\n",
    "   # This centers each cluster of bars about the x tick mark\n",
    "   alteration = np.arange(-(total_width/2), total_width/2, ind_width)\n",
    "\n",
    "   # Draw bars, one category at a time\n",
    "   for i in range(0, len(y_data_list)):\n",
    "       # Move the bar to the right on the x-axis so it doesn’t\n",
    "       # overlap with previously drawn ones\n",
    "       print(“X data: {}“.format(x_data))\n",
    "       print(“alterations at index i: {}“.format(alteration[i]))\n",
    "       ax.bar(x_data + alteration[i], y_data_list[i], color = colors[i], label = y_data_names[i], width = ind_width)\n",
    "   ax.set_ylabel(y_label)\n",
    "   ax.set_xlabel(x_label)\n",
    "   ax.set_title(title)\n",
    "   ax.legend(loc = ‘upper right’)"
   ]
  },
  {
   "cell_type": "code",
   "execution_count": 2,
   "metadata": {},
   "outputs": [
    {
     "ename": "SyntaxError",
     "evalue": "invalid character in identifier (<ipython-input-2-2a3a77e8bd76>, line 3)",
     "output_type": "error",
     "traceback": [
      "\u001b[0;36m  File \u001b[0;32m\"<ipython-input-2-2a3a77e8bd76>\"\u001b[0;36m, line \u001b[0;32m3\u001b[0m\n\u001b[0;31m    colors = [“#539caf”,“#297083\"]\u001b[0m\n\u001b[0m              ^\u001b[0m\n\u001b[0;31mSyntaxError\u001b[0m\u001b[0;31m:\u001b[0m invalid character in identifier\n"
     ]
    }
   ],
   "source": [
    "X = SA_2016_ALL_without_8.columns[2]\n",
    "Y = SA_2016_ALL_without_8.columns[0]\n",
    "colors = [“#539caf”,“#297083\"]\n",
    "groupedbarplot(SA_2016_ALL_without_8[X], SA_2016_ALL_without_8[Y], colors, y_data_names=“”, x_label=“”, y_label=“”, title=“”)\n",
    "# lineplot(SA_2016_ALL_without_8[X], SA_2016_ALL_without_8[Y], x_label=‘Week Number’, y_label=“Satisfaction with the pacing”, title=“How satisfaction progresses”)"
   ]
  },
  {
   "cell_type": "code",
   "execution_count": 3,
   "metadata": {},
   "outputs": [
    {
     "data": {
      "text/plain": [
       "<matplotlib.axes._subplots.AxesSubplot at 0x113f13898>"
      ]
     },
     "execution_count": 3,
     "metadata": {},
     "output_type": "execute_result"
    }
   ],
   "source": [
    "import pandas as pd\n",
    "\n",
    "groups = [[23,135,3], [123,500,1]]\n",
    "group_labels = ['views', 'orders']\n",
    "\n",
    "# Convert data to pandas DataFrame.\n",
    "df = pd.DataFrame(groups, index=group_labels).T\n",
    "\n",
    "# Plot.\n",
    "pd.concat(\n",
    "    [df.mean().rename('average'), df.min().rename('min'), \n",
    "     df.max().rename('max')],\n",
    "    axis=1).plot.bar()"
   ]
  },
  {
   "cell_type": "code",
   "execution_count": null,
   "metadata": {},
   "outputs": [],
   "source": []
  }
 ],
 "metadata": {
  "kernelspec": {
   "display_name": "Python 3",
   "language": "python",
   "name": "python3"
  },
  "language_info": {
   "codemirror_mode": {
    "name": "ipython",
    "version": 3
   },
   "file_extension": ".py",
   "mimetype": "text/x-python",
   "name": "python",
   "nbconvert_exporter": "python",
   "pygments_lexer": "ipython3",
   "version": "3.7.1"
  }
 },
 "nbformat": 4,
 "nbformat_minor": 2
}
