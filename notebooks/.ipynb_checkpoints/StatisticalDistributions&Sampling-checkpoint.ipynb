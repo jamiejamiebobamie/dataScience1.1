{
 "cells": [
  {
   "cell_type": "markdown",
   "metadata": {},
   "source": [
    "mean, median, mode, range\n",
    "\n",
    "#'s:\n",
    "13, 18, 13, 14, 13, 16, 14, 21, 13\n",
    "\n",
    "\n",
    "mean:\n",
    "\n",
    "    (sum of #'s divided by # of #'s)\n",
    "(13 + 18 + 13 + 14 + 13 + 16 + 14 + 21 + 13) ÷ 9 = 15 (Not necessarily a value from the original list.)\n",
    "\n",
    "\n",
    "\n",
    "median:\n",
    "\n",
    "    (the middle value of the list in numerical order)\n",
    "13, 13, 13, 13, 14, 14, 16, 18, 21 = 14\n",
    "\n",
    "\n",
    "mode:\n",
    "\n",
    "    (highest frequency / most repeated)\n",
    "13\n",
    "\n",
    "\n",
    "range:\n",
    "\n",
    "    (the difference between the highest and lowest value in the list)\n",
    "21 – 13 = 8\n",
    "\n",
    "mean: 15\n",
    "median: 14\n",
    "mode: 13\n",
    "range: 8"
   ]
  },
  {
   "cell_type": "markdown",
   "metadata": {},
   "source": [
    "\"We say the data is \"normally distributed\":\"\n",
    "\n",
    "when mean = median = mode...\n",
    "\n",
    "when there's symmetry about the center\n",
    "\n",
    "when 50% of values are less than the mean and 50% greater than the mean"
   ]
  },
  {
   "cell_type": "markdown",
   "metadata": {},
   "source": [
    "The Standard Deviation is a measure of how spread out numbers are."
   ]
  },
  {
   "cell_type": "markdown",
   "metadata": {},
   "source": [
    "The number of standard deviations from the mean is also called the \"Standard Score\", \"sigma\" or \"z-score\"."
   ]
  },
  {
   "cell_type": "markdown",
   "metadata": {},
   "source": [
    "68% of values are within\n",
    "1 standard deviation\tof the mean\n",
    "\n",
    " \n",
    "\n",
    " \n",
    "\n",
    "95% of values are within \n",
    "2 standard deviations of the mean\n",
    "\n",
    " \n",
    "\n",
    " \n",
    "\n",
    "99.7% of values are within \n",
    "3 standard deviations of the mean\n",
    "\n"
   ]
  },
  {
   "cell_type": "markdown",
   "metadata": {},
   "source": [
    "to convert a value to a Standard Score (\"z-score\"):\n",
    "\n",
    "first subtract the mean,\n",
    "then divide by the Standard Deviation"
   ]
  },
  {
   "cell_type": "code",
   "execution_count": 1,
   "metadata": {},
   "outputs": [
    {
     "ename": "SyntaxError",
     "evalue": "invalid syntax (<ipython-input-1-9f45f2f8d370>, line 1)",
     "output_type": "error",
     "traceback": [
      "\u001b[0;36m  File \u001b[0;32m\"<ipython-input-1-9f45f2f8d370>\"\u001b[0;36m, line \u001b[0;32m1\u001b[0m\n\u001b[0;31m    Standard Deviation is the square root of the Variance. To calculate the variance follow these steps:\u001b[0m\n\u001b[0m                     ^\u001b[0m\n\u001b[0;31mSyntaxError\u001b[0m\u001b[0;31m:\u001b[0m invalid syntax\n"
     ]
    }
   ],
   "source": [
    "Standard Deviation is the square root of the Variance. To calculate the variance follow these steps:\n",
    "\n",
    "Work out the Mean (the simple average of the numbers)\n",
    "Then for each number: subtract the Mean and square the result (the squared difference).\n",
    "Then work out the average of those squared differences."
   ]
  },
  {
   "cell_type": "markdown",
   "metadata": {},
   "source": [
    "Standard Deviation is the square root of the Variance. To calculate the variance follow these steps:\n",
    "\n",
    "Work out the Mean (the simple average of the numbers)\n",
    "Then for each number: subtract the Mean and square the result (the squared difference).\n",
    "Then work out the average of those squared differences."
   ]
  },
  {
   "cell_type": "markdown",
   "metadata": {},
   "source": [
    "When you have \"N\" data values that are:\n",
    "\n",
    "The Population: divide by N when calculating Variance.\n",
    "\n",
    "A Sample (of a population): divide by N-1 when calculating Variance."
   ]
  },
  {
   "cell_type": "markdown",
   "metadata": {},
   "source": [
    "The Central Limit Theorem (CLT) is a statistical theory states that given a sufficiently large sample size from a population with a finite level of variance, the mean of all samples from the same population will be approximately equal to the mean of the population."
   ]
  },
  {
   "cell_type": "code",
   "execution_count": 2,
   "metadata": {},
   "outputs": [],
   "source": [
    "import numpy as np\n",
    "from scipy import stats\n",
    "import matplotlib.pyplot as plot\n",
    "birthday_list = np.array([1904, 1995, 1995, 1995, 1995, 1995, 2000, 1989, 1990, 1976, 1950, 1949, 2001, 1992, 1986, 1997, 1987, 1976, 1985, 1993, 1981, 1960, 1970, 1989, 2000, 1976, 1979, 1991, 1962, 1990])"
   ]
  },
  {
   "cell_type": "code",
   "execution_count": 3,
   "metadata": {},
   "outputs": [
    {
     "data": {
      "text/plain": [
       "1981.6"
      ]
     },
     "execution_count": 3,
     "metadata": {},
     "output_type": "execute_result"
    }
   ],
   "source": [
    "birthday_list.mean()"
   ]
  },
  {
   "cell_type": "code",
   "execution_count": 4,
   "metadata": {},
   "outputs": [
    {
     "data": {
      "text/plain": [
       "1989.0"
      ]
     },
     "execution_count": 4,
     "metadata": {},
     "output_type": "execute_result"
    }
   ],
   "source": [
    "np.median(birthday_list)"
   ]
  },
  {
   "cell_type": "code",
   "execution_count": 5,
   "metadata": {},
   "outputs": [
    {
     "data": {
      "text/plain": [
       "ModeResult(mode=array([1995]), count=array([5]))"
      ]
     },
     "execution_count": 5,
     "metadata": {},
     "output_type": "execute_result"
    }
   ],
   "source": [
    "stats.mode(birthday_list)"
   ]
  },
  {
   "cell_type": "code",
   "execution_count": 6,
   "metadata": {},
   "outputs": [
    {
     "data": {
      "image/png": "[encoded data removed]",
      "text/plain": [
       "<Figure size 432x288 with 1 Axes>"
      ]
     },
     "metadata": {
      "needs_background": "light"
     },
     "output_type": "display_data"
    }
   ],
   "source": [
    "plot.hist(birthday_list,bins=100)\n",
    "\n",
    "plot.show()"
   ]
  },
  {
   "cell_type": "code",
   "execution_count": null,
   "metadata": {},
   "outputs": [],
   "source": []
  }
 ],
 "metadata": {
  "kernelspec": {
   "display_name": "Python 3",
   "language": "python",
   "name": "python3"
  },
  "language_info": {
   "codemirror_mode": {
    "name": "ipython",
    "version": 3
   },
   "file_extension": ".py",
   "mimetype": "text/x-python",
   "name": "python",
   "nbconvert_exporter": "python",
   "pygments_lexer": "ipython3",
   "version": "3.7.1"
  }
 },
 "nbformat": 4,
 "nbformat_minor": 2
}
